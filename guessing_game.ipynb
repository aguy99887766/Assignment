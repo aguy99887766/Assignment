{
 "cells": [
  {
   "cell_type": "code",
   "execution_count": null,
   "id": "5ecb233b-9181-40b1-8d59-bdf882b14e65",
   "metadata": {},
   "outputs": [],
   "source": [
    "import random"
   ]
  },
  {
   "cell_type": "code",
   "execution_count": null,
   "id": "2d0c8300-623a-4c7b-8cd5-4884e12404c8",
   "metadata": {},
   "outputs": [],
   "source": [
    "MAX_VAL = 10\n",
    "MIN_VAL = 1\n",
    "secret = random.randint(MIN_VAL, MAX_VAL)"
   ]
  },
  {
   "cell_type": "code",
   "execution_count": null,
   "id": "3aef376c-7b55-44dc-ab17-0e823714b0ea",
   "metadata": {},
   "outputs": [],
   "source": [
    "def guessing_game(number: int) -> (str, bool):\n",
    "\tif number > secret:\n",
    "\t\treturn \"Too high\", False\n",
    "\telif number < secret:\n",
    "\t\treturn \"Too low\", False\n",
    "\telse:\n",
    "\t\treturn \"Correct\", True"
   ]
  },
  {
   "cell_type": "code",
   "execution_count": null,
   "id": "2996060e-ec8a-4290-afa4-557883550fa2",
   "metadata": {},
   "outputs": [],
   "source": [
    "def run_game(lives: int = 5) -> str:\n",
    "\tfor live in range(lives):\n",
    "\n",
    "\t\ttry:\n",
    "\t\t\tuser = int(input(f\"Guess a number between {MIN_VAL}-{MAX_VAL} >>> \"))\n",
    "\t\texcept ValueError:\n",
    "\t\t\tprint(\"Not a valid input\")\n",
    "\t\t\tcontinue\n",
    "\n",
    "\t\toutput, correct = guessing_game(number = user)\n",
    "\n",
    "\t\tif correct:\n",
    "\t\t\tprint(output)\n",
    "\t\t\tbreak\t\n",
    "\n",
    "\t\tprint(output)\t\n",
    "\t\n",
    "\tif live == lives:\n",
    "\t\treturn \"lost\"\n",
    "\n",
    "\treturn \"won\""
   ]
  },
  {
   "cell_type": "code",
   "execution_count": null,
   "id": "26333eca-be14-4034-b23c-50e42c555a95",
   "metadata": {},
   "outputs": [],
   "source": [
    "won = run_game()\n",
    "print(won)"
   ]
  }
 ],
 "metadata": {
  "kernelspec": {
   "display_name": "Python 3 (ipykernel)",
   "language": "python",
   "name": "python3"
  },
  "language_info": {
   "codemirror_mode": {
    "name": "ipython",
    "version": 3
   },
   "file_extension": ".py",
   "mimetype": "text/x-python",
   "name": "python",
   "nbconvert_exporter": "python",
   "pygments_lexer": "ipython3",
   "version": "3.13.3"
  }
 },
 "nbformat": 4,
 "nbformat_minor": 5
}
