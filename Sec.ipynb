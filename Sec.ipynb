{
 "cells": [
  {
   "cell_type": "code",
   "execution_count": null,
   "id": "359b6552-e436-43ed-91de-f6fc75fed579",
   "metadata": {},
   "outputs": [],
   "source": [
    "def seconds_per_hour(hour: float | int) -> float | int:\n",
    "\tseconds = hour * 3600\t# 60 minutes * 60 seconds\n",
    "\treturn seconds"
   ]
  },
  {
   "cell_type": "code",
   "execution_count": null,
   "id": "d31349a5-fa34-4e19-af8a-54d4674c6c85",
   "metadata": {},
   "outputs": [],
   "source": [
    "def seconds_per_day(days: float | int) -> float | int:\n",
    "\thours = days * 24\t# Convert days to hours\n",
    "\tseconds = seconds_per_hour(hours)\t# Convert hours to seconds\n",
    "\treturn seconds"
   ]
  },
  {
   "cell_type": "code",
   "execution_count": null,
   "id": "38d6748f-ba30-45e9-ae48-fd6805e64194",
   "metadata": {},
   "outputs": [],
   "source": [
    "\n",
    "divide = seconds_per_day(1) / seconds_per_hour(1)\t# Returns floating point\n",
    "print(divide)\n",
    "divide = seconds_per_day(1) // seconds_per_hour(1)\t# Returns rounded\n",
    "print(divide)"
   ]
  }
 ],
 "metadata": {
  "kernelspec": {
   "display_name": "Python 3 (ipykernel)",
   "language": "python",
   "name": "python3"
  },
  "language_info": {
   "codemirror_mode": {
    "name": "ipython",
    "version": 3
   },
   "file_extension": ".py",
   "mimetype": "text/x-python",
   "name": "python",
   "nbconvert_exporter": "python",
   "pygments_lexer": "ipython3",
   "version": "3.13.3"
  }
 },
 "nbformat": 4,
 "nbformat_minor": 5
}
