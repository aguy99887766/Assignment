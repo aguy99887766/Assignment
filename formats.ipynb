{
 "cells": [
  {
   "cell_type": "code",
   "execution_count": 4,
   "id": "8e24a8df-a8df-488c-8670-3719009b3045",
   "metadata": {},
   "outputs": [
    {
     "name": "stdout",
     "output_type": "stream",
     "text": [
      "My kitty cat likes ham,\n",
      "My kitty cat likes roast beef,\n",
      "My kitty cat fell on his head\n",
      "And now thinks he's a clam. \n"
     ]
    }
   ],
   "source": [
    "# OLD STYLE\n",
    "\n",
    "print(\"My kitty cat likes %s,\" % \"ham\")\n",
    "print(\"My kitty cat likes %s,\" % \"roast beef\")\n",
    "print(\"My kitty cat fell on his %s\" % \"head\")\n",
    "print(\"And now thinks he's a %s. \" % \"clam\")"
   ]
  },
  {
   "cell_type": "code",
   "execution_count": 12,
   "id": "5bceb7b7-c2b5-405c-a586-1ca30fe0f214",
   "metadata": {},
   "outputs": [
    {
     "name": "stdout",
     "output_type": "stream",
     "text": [
      "\n",
      "Dear Mr Bill,\n",
      "\n",
      "Thank you for your letter. We are sorry that our Pillow\n",
      "failed in your bedroom. Please note that it should never\n",
      "be used in a bedroom, especially near any Ducks.\n",
      "\n",
      "Send us your receipt and $384 for shipping and handling.\n",
      "We will send you another Pillow that, in our tests,\n",
      "is 5% less likely to have failed.\n",
      "\n",
      "Thank you for your support.\n",
      "\n",
      "Sincerely,\n",
      "Johnson\n",
      "Executive\n",
      "    \n"
     ]
    }
   ],
   "source": [
    "def formal_greeting(salutation: str,\n",
    "                    name: str,\n",
    "                    product: str,\n",
    "                    verbed: str,\n",
    "                    room: str,\n",
    "                    animals: str,\n",
    "                    amount: str,\n",
    "                    percent: float,\n",
    "                    spokesman: str,\n",
    "                    job_title: str) -> str:\n",
    "\n",
    "\n",
    "    if not isinstance(percent, (float, int)):\n",
    "        raise ValueError(\"Not a valid parameter, you must use float or int\")\n",
    "    \n",
    "    return \"\"\"\n",
    "Dear {salutation} {name},\n",
    "\n",
    "Thank you for your letter. We are sorry that our {product}\n",
    "{verbed} in your {room}. Please note that it should never\n",
    "be used in a {room}, especially near any {animals}.\n",
    "\n",
    "Send us your receipt and {amount} for shipping and handling.\n",
    "We will send you another {product} that, in our tests,\n",
    "is {percent}% less likely to have {verbed}.\n",
    "\n",
    "Thank you for your support.\n",
    "\n",
    "Sincerely,\n",
    "{spokesman}\n",
    "{job_title}\n",
    "    \"\"\".format(salutation = salutation, \n",
    "               name = name, \n",
    "               product = product, \n",
    "               verbed = verbed, \n",
    "               room = room,\n",
    "               animals = animals,\n",
    "               amount = amount,\n",
    "               percent = percent,\n",
    "               spokesman = spokesman,\n",
    "               job_title = job_title)\n",
    "\n",
    "\n",
    "print(formal_greeting(\"Mr\", \"Bill\", \"Pillow\", \"failed\", \"bedroom\", \"Ducks\", \"$384\", 5, \"Johnson\", \"Executive\"))"
   ]
  },
  {
   "cell_type": "code",
   "execution_count": 19,
   "id": "0a2d1999-87ac-4e18-b0e6-4b22c2317f3f",
   "metadata": {},
   "outputs": [
    {
     "name": "stdout",
     "output_type": "stream",
     "text": [
      "Boaty McBoat-face\n",
      "Horsey McHorse-face\n",
      "Trainy McTrain-face\n"
     ]
    }
   ],
   "source": [
    "winners = {\n",
    "    \"english\": \"boat\",\n",
    "    \"australian\": \"horse\",\n",
    "    \"swedish\": \"train\"\n",
    "}"
   ]
  },
  {
   "cell_type": "code",
   "execution_count": 20,
   "id": "6aeb6374-9c69-42ca-bce6-ee488d5cd52e",
   "metadata": {},
   "outputs": [
    {
     "name": "stdout",
     "output_type": "stream",
     "text": [
      "Boaty McBoat-face\n",
      "Horsey McHorse-face\n",
      "Trainy McTrain-face\n"
     ]
    }
   ],
   "source": [
    "for winner in winners.values():\n",
    "    winner = winner.capitalize()\n",
    "    print(\"%sy Mc%s-face\" % (winner, winner))"
   ]
  },
  {
   "cell_type": "code",
   "execution_count": null,
   "id": "e3806020-585a-4fe8-be69-d65ef928ea87",
   "metadata": {},
   "outputs": [],
   "source": [
    "for winner in winners.values():\n",
    "    winner = winner.capitalize()\n",
    "    print(\"{0"
   ]
  }
 ],
 "metadata": {
  "kernelspec": {
   "display_name": "Python 3 (ipykernel)",
   "language": "python",
   "name": "python3"
  },
  "language_info": {
   "codemirror_mode": {
    "name": "ipython",
    "version": 3
   },
   "file_extension": ".py",
   "mimetype": "text/x-python",
   "name": "python",
   "nbconvert_exporter": "python",
   "pygments_lexer": "ipython3",
   "version": "3.13.3"
  }
 },
 "nbformat": 4,
 "nbformat_minor": 5
}
