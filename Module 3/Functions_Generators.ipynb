{
 "cells": [
  {
   "cell_type": "code",
   "execution_count": 14,
   "id": "527df6e0-c098-4573-bd8e-a58cb6be2787",
   "metadata": {},
   "outputs": [],
   "source": [
    "# Chapter 7"
   ]
  },
  {
   "cell_type": "code",
   "execution_count": 15,
   "id": "211a1a14-8549-40ad-872f-c1b3731ee8c5",
   "metadata": {},
   "outputs": [],
   "source": [
    "things = [\"mozzeralla\", \"cinderalla\", \"salmonella\"]"
   ]
  },
  {
   "cell_type": "code",
   "execution_count": 16,
   "id": "0d346fd8-13df-4fae-af75-7e227f21caae",
   "metadata": {},
   "outputs": [],
   "source": [
    "things[1] = things[1].capitalize()"
   ]
  },
  {
   "cell_type": "code",
   "execution_count": 17,
   "id": "7a729611-c168-4cf7-9001-bb28269872b3",
   "metadata": {},
   "outputs": [
    {
     "name": "stdout",
     "output_type": "stream",
     "text": [
      "['mozzeralla', 'Cinderalla', 'salmonella']\n"
     ]
    }
   ],
   "source": [
    "print(things)"
   ]
  },
  {
   "cell_type": "code",
   "execution_count": 18,
   "id": "abc8060c-555d-4cdb-a93f-e6b5bdbeae40",
   "metadata": {},
   "outputs": [],
   "source": [
    "# Yes"
   ]
  },
  {
   "cell_type": "code",
   "execution_count": 19,
   "id": "cc9931c3-92bb-4be2-a67d-ed18b1e9dff1",
   "metadata": {},
   "outputs": [],
   "source": [
    "things[0] = things[0].upper()"
   ]
  },
  {
   "cell_type": "code",
   "execution_count": 20,
   "id": "73769317-e163-43fe-83ff-161d648100cb",
   "metadata": {},
   "outputs": [
    {
     "name": "stdout",
     "output_type": "stream",
     "text": [
      "['MOZZERALLA', 'Cinderalla', 'salmonella']\n"
     ]
    }
   ],
   "source": [
    "print(things)"
   ]
  },
  {
   "cell_type": "code",
   "execution_count": null,
   "id": "4035feac-443b-4686-b663-3fc5f2d97143",
   "metadata": {},
   "outputs": [],
   "source": []
  },
  {
   "cell_type": "code",
   "execution_count": 21,
   "id": "6f6c84b0-d4da-443a-99f5-cf7e684266e0",
   "metadata": {},
   "outputs": [
    {
     "data": {
      "text/plain": [
       "'salmonella'"
      ]
     },
     "execution_count": 21,
     "metadata": {},
     "output_type": "execute_result"
    }
   ],
   "source": [
    "things.pop(things.index(\"salmonella\"))"
   ]
  },
  {
   "cell_type": "code",
   "execution_count": 22,
   "id": "85033edc-85aa-4270-a72a-ef6e50daee0d",
   "metadata": {},
   "outputs": [
    {
     "name": "stdout",
     "output_type": "stream",
     "text": [
      "['MOZZERALLA', 'Cinderalla']\n"
     ]
    }
   ],
   "source": [
    "print(things)"
   ]
  },
  {
   "cell_type": "code",
   "execution_count": null,
   "id": "08a61d50-8f85-44c0-b76d-f4077e58357e",
   "metadata": {},
   "outputs": [],
   "source": [
    "# Chapter 9"
   ]
  },
  {
   "cell_type": "code",
   "execution_count": 24,
   "id": "922da240-5539-446e-abd7-bf0b055aa64e",
   "metadata": {},
   "outputs": [],
   "source": [
    "def good() -> list[str]:\n",
    "    return [\"Harry\", \"Ron\", \"Hermione\"]"
   ]
  },
  {
   "cell_type": "code",
   "execution_count": 25,
   "id": "ef7905aa-fa4a-465b-b9b7-9825b7a4facf",
   "metadata": {},
   "outputs": [
    {
     "name": "stdout",
     "output_type": "stream",
     "text": [
      "['Harry', 'Ron', 'Hermione']\n"
     ]
    }
   ],
   "source": [
    "print(good())"
   ]
  },
  {
   "cell_type": "code",
   "execution_count": 51,
   "id": "dd8e6dc4-ee1b-4786-8bba-2544d5c1ae08",
   "metadata": {},
   "outputs": [],
   "source": [
    "def get_odds() -> int:\n",
    "    for i in range(0, 10):\n",
    "        if i % 2 == 1:\n",
    "            yield i \n"
   ]
  },
  {
   "cell_type": "code",
   "execution_count": 52,
   "id": "86cbc4e1-8ac8-4d6d-933d-8c2a07ddb700",
   "metadata": {},
   "outputs": [],
   "source": [
    "generator = get_odds()"
   ]
  },
  {
   "cell_type": "code",
   "execution_count": 53,
   "id": "d8f4bc74-13c2-4840-baad-e43d4546ec00",
   "metadata": {},
   "outputs": [
    {
     "name": "stdout",
     "output_type": "stream",
     "text": [
      "1\n"
     ]
    }
   ],
   "source": [
    "print(next(generator))"
   ]
  },
  {
   "cell_type": "code",
   "execution_count": 54,
   "id": "e63ca785-093d-4f15-a6db-44a4b9bae188",
   "metadata": {},
   "outputs": [
    {
     "name": "stdout",
     "output_type": "stream",
     "text": [
      "3\n"
     ]
    }
   ],
   "source": [
    "print(next(generator))"
   ]
  },
  {
   "cell_type": "code",
   "execution_count": 55,
   "id": "c5424464-7cbf-4515-b1b4-db743aee9900",
   "metadata": {},
   "outputs": [
    {
     "name": "stdout",
     "output_type": "stream",
     "text": [
      "5\n"
     ]
    }
   ],
   "source": [
    "print(next(generator))"
   ]
  },
  {
   "cell_type": "code",
   "execution_count": 64,
   "id": "9719d458-3054-47b5-8fcd-6d052f128753",
   "metadata": {},
   "outputs": [],
   "source": [
    "def test(func, *args, **kwargs) -> callable:\n",
    "    def wrapper(*args, **kwargs) -> None:\n",
    "        print(\"Start\")\n",
    "        func(*args, **kwargs)\n",
    "        print(\"End\")\n",
    "    return wrapper\n"
   ]
  },
  {
   "cell_type": "code",
   "execution_count": 65,
   "id": "7ee29ada-c53b-4540-a2f7-e04fa85b4873",
   "metadata": {},
   "outputs": [],
   "source": [
    "@test\n",
    "def merge_sort(needed_list: list[any]) -> None:\n",
    "    length = len(needed_list)\n",
    "    if length > 1:\n",
    "\n",
    "        left_arr = needed_list[length // 2:]\n",
    "        right_arr = needed_list[:length // 2]\n",
    "\n",
    "        merge_sort(left_arr)\n",
    "        merge_sort(right_arr)\n",
    "\n",
    "        left_index = 0\n",
    "        right_index = 0\n",
    "        merged_index = 0\n",
    "\n",
    "        while len(left_arr) > left_index and len(right_arr) > right_index:\n",
    "            if left_arr[left_index] > right_arr[right_index]:\n",
    "                needed_list[merged_index] = left_arr[left_index]\n",
    "                left_index += 1\n",
    "            else:\n",
    "                needed_list[merged_index] = right_arr[right_index]\n",
    "                right_index += 1\n",
    "            merged_index += 1\n",
    "\n",
    "        while len(left_arr) > left_index:\n",
    "            needed_list[merged_index] = left_arr[left_index]\n",
    "            left_index += 1\n",
    "            merged_index += 1\n",
    "\n",
    "        while len(right_arr) > right_index:\n",
    "            needed_list[merged_index] = right_arr[right_index]\n",
    "            right_index += 1\n",
    "            merged_index += 1"
   ]
  },
  {
   "cell_type": "code",
   "execution_count": 66,
   "id": "56e882d0-3ad4-4473-abd9-18fd287c3721",
   "metadata": {},
   "outputs": [],
   "source": [
    "import random"
   ]
  },
  {
   "cell_type": "code",
   "execution_count": 67,
   "id": "ebf10cb0-f3ec-432f-8a62-4b0caa8ee8bc",
   "metadata": {},
   "outputs": [],
   "source": [
    "myList = random.sample(range(10), 10)"
   ]
  },
  {
   "cell_type": "code",
   "execution_count": 68,
   "id": "09e712fa-7b53-4a54-bd7e-99f0d75ef14e",
   "metadata": {},
   "outputs": [
    {
     "name": "stdout",
     "output_type": "stream",
     "text": [
      "Start\n",
      "Start\n",
      "Start\n",
      "Start\n",
      "Start\n",
      "End\n",
      "Start\n",
      "End\n",
      "End\n",
      "Start\n",
      "End\n",
      "End\n",
      "Start\n",
      "Start\n",
      "End\n",
      "Start\n",
      "End\n",
      "End\n",
      "End\n",
      "Start\n",
      "Start\n",
      "Start\n",
      "Start\n",
      "End\n",
      "Start\n",
      "End\n",
      "End\n",
      "Start\n",
      "End\n",
      "End\n",
      "Start\n",
      "Start\n",
      "End\n",
      "Start\n",
      "End\n",
      "End\n",
      "End\n",
      "End\n",
      "[9, 8, 7, 6, 5, 4, 3, 2, 1, 0]\n"
     ]
    }
   ],
   "source": [
    "merge_sort(myList)\n",
    "print(myList)"
   ]
  },
  {
   "cell_type": "code",
   "execution_count": 71,
   "id": "88cdc0b0-920c-4543-aa05-e9d632165709",
   "metadata": {},
   "outputs": [],
   "source": [
    "@test\n",
    "def OopsException() -> None:\n",
    "    raise Exception(\"Error\")\n",
    "    "
   ]
  },
  {
   "cell_type": "code",
   "execution_count": 72,
   "id": "6d1338dd-547b-4483-820b-6cac56205376",
   "metadata": {},
   "outputs": [
    {
     "name": "stdout",
     "output_type": "stream",
     "text": [
      "Start\n",
      "Error\n"
     ]
    }
   ],
   "source": [
    "try:\n",
    "    OopsException()\n",
    "except Exception as e:\n",
    "    print(e)"
   ]
  },
  {
   "cell_type": "code",
   "execution_count": null,
   "id": "06b55855-b49c-4062-9482-e11fb912f698",
   "metadata": {},
   "outputs": [],
   "source": []
  },
  {
   "cell_type": "code",
   "execution_count": null,
   "id": "abeb7cc8-4911-48f6-b6e5-5cd10b6252f7",
   "metadata": {},
   "outputs": [],
   "source": []
  }
 ],
 "metadata": {
  "kernelspec": {
   "display_name": "Python 3 (ipykernel)",
   "language": "python",
   "name": "python3"
  },
  "language_info": {
   "codemirror_mode": {
    "name": "ipython",
    "version": 3
   },
   "file_extension": ".py",
   "mimetype": "text/x-python",
   "name": "python",
   "nbconvert_exporter": "python",
   "pygments_lexer": "ipython3",
   "version": "3.13.3"
  }
 },
 "nbformat": 4,
 "nbformat_minor": 5
}
