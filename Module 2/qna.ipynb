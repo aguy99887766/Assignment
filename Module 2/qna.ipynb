{
 "cells": [
  {
   "cell_type": "code",
   "execution_count": 24,
   "id": "9e9186cd-49ae-417f-9c60-4c81e102d245",
   "metadata": {},
   "outputs": [],
   "source": [
    "questions = [\n",
    "...     \"We don't serve strings around here. Are you a string?\",\n",
    "...     \"What is said on Father's Day in the forest?\",\n",
    "...     \"What makes the sound 'Sis! Boom! Bah!'?\"\n",
    "...     ]"
   ]
  },
  {
   "cell_type": "code",
   "execution_count": 25,
   "id": "4e7ea57b-b948-42c4-a893-ea8208f909fb",
   "metadata": {},
   "outputs": [],
   "source": [
    "answers = [\n",
    "...     \"An exploding sheep.\",\n",
    "...     \"No, I'm a frayed knot.\",\n",
    "...     \"'Pop!' goes the weasel.\"\n",
    "...     ]"
   ]
  },
  {
   "cell_type": "code",
   "execution_count": 26,
   "id": "8b31c225-ab7e-4c1c-abbe-ed48f3f21a3e",
   "metadata": {},
   "outputs": [],
   "source": [
    "# reversed_list = [answers[i] for i in range(len(answers) - 1, -1, -1)]\n",
    "\n",
    "\n"
   ]
  },
  {
   "cell_type": "code",
   "execution_count": 27,
   "id": "bdf25763-4d77-44d9-a4ab-4b06932c44e4",
   "metadata": {},
   "outputs": [],
   "source": [
    "for index in range(len(answers) - 1):\n",
    "    answers[index] = answers[index+1]\n",
    "    "
   ]
  },
  {
   "cell_type": "code",
   "execution_count": 28,
   "id": "52e5b877-ae6f-4e89-8567-3aca68e0657c",
   "metadata": {},
   "outputs": [
    {
     "name": "stdout",
     "output_type": "stream",
     "text": [
      "[\"No, I'm a frayed knot.\", \"'Pop!' goes the weasel.\", \"'Pop!' goes the weasel.\"]\n"
     ]
    }
   ],
   "source": [
    "print(answers)"
   ]
  },
  {
   "cell_type": "code",
   "execution_count": null,
   "id": "f8511cf5-5142-4eea-bf07-83170734a9f4",
   "metadata": {},
   "outputs": [],
   "source": [
    "for question, answer in zip(questions,"
   ]
  }
 ],
 "metadata": {
  "kernelspec": {
   "display_name": "Python 3 (ipykernel)",
   "language": "python",
   "name": "python3"
  },
  "language_info": {
   "codemirror_mode": {
    "name": "ipython",
    "version": 3
   },
   "file_extension": ".py",
   "mimetype": "text/x-python",
   "name": "python",
   "nbconvert_exporter": "python",
   "pygments_lexer": "ipython3",
   "version": "3.13.3"
  }
 },
 "nbformat": 4,
 "nbformat_minor": 5
}
