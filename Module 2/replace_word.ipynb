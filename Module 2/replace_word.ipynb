{
 "cells": [
  {
   "cell_type": "code",
   "execution_count": 20,
   "id": "fa00fba6-1aa0-4234-aab7-499009abd220",
   "metadata": {},
   "outputs": [],
   "source": [
    "song = \"\"\"When an eel grabs your arm,\n",
    "And it causes great harm,\n",
    "That's - a moray!\"\"\"\n"
   ]
  },
  {
   "cell_type": "code",
   "execution_count": 21,
   "id": "8f013ae5-a3de-4b2c-a9fb-9b84f62f8cb8",
   "metadata": {},
   "outputs": [
    {
     "name": "stdout",
     "output_type": "stream",
     "text": [
      "0 When\n",
      "1 an\n",
      "2 eel\n",
      "3 grabs\n",
      "4 your\n",
      "5 arm,\n",
      "6 And\n",
      "7 it\n",
      "8 causes\n",
      "9 great\n",
      "10 harm,\n",
      "11 That's\n",
      "12 -\n",
      "13 a\n",
      "14 moray!\n"
     ]
    }
   ],
   "source": [
    "song_list = song.split()\n",
    "for index, word in enumerate(song_list):\n",
    "    print(index, word)\n",
    "    if word[0] == \"m\":\n",
    "        song_list[index] = word.capitalize()\n",
    "    \n"
   ]
  },
  {
   "cell_type": "code",
   "execution_count": 22,
   "id": "32302532-7e2d-4ff8-8c5b-848f6d744328",
   "metadata": {},
   "outputs": [
    {
     "name": "stdout",
     "output_type": "stream",
     "text": [
      "When an eel grabs your arm,\n",
      "And it causes great harm,\n",
      "That's - a moray!\n"
     ]
    }
   ],
   "source": [
    "print(song)"
   ]
  },
  {
   "cell_type": "code",
   "execution_count": null,
   "id": "b7c9db19-c0aa-4644-b759-8206d5cc974a",
   "metadata": {},
   "outputs": [],
   "source": []
  }
 ],
 "metadata": {
  "kernelspec": {
   "display_name": "Python 3 (ipykernel)",
   "language": "python",
   "name": "python3"
  },
  "language_info": {
   "codemirror_mode": {
    "name": "ipython",
    "version": 3
   },
   "file_extension": ".py",
   "mimetype": "text/x-python",
   "name": "python",
   "nbconvert_exporter": "python",
   "pygments_lexer": "ipython3",
   "version": "3.13.3"
  }
 },
 "nbformat": 4,
 "nbformat_minor": 5
}
